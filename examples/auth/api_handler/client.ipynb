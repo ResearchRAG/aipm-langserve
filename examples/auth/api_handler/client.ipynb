{
 "cells": [
  {
   "cell_type": "markdown",
   "metadata": {},
   "source": [
    "# 客户端\n",
    "\n",
    "这是一个示例客户端，与具有“认证(auth)”功能的服务器进行交互。\n",
    "\n",
    "请参考服务器代码和FastAPI中的适当文档，以实现真正的安全性。\n",
    "\n",
    "**注意** 仅服务器定义了调用端点！\n",
    "因此，批量/流处理将不起作用。如果你想添加流和批量处理，也可以在服务器端进行相应的操作。\n",
    "服务器使用APIHandler实现，它更加灵活，但确实需要更多的代码。 :）"
   ]
  },
  {
   "cell_type": "markdown",
   "metadata": {},
   "source": [
    "## 作为 Alice 登录"
   ]
  },
  {
   "cell_type": "code",
   "execution_count": 1,
   "metadata": {
    "tags": []
   },
   "outputs": [],
   "source": [
    "import requests\n",
    "\n",
    "response = requests.post(\"http://localhost:8000/token\", data={\"username\": \"alice\", \"password\": \"secret1\"})\n",
    "result = response.json()"
   ]
  },
  {
   "cell_type": "code",
   "execution_count": 2,
   "metadata": {
    "tags": []
   },
   "outputs": [],
   "source": [
    "token = result['access_token']"
   ]
  },
  {
   "cell_type": "code",
   "execution_count": 3,
   "metadata": {
    "tags": []
   },
   "outputs": [],
   "source": [
    "inputs = {\"input\": \"hello\"}\n",
    "response = requests.post(\"http://localhost:8000/my_runnable/invoke\", \n",
    "    json={\n",
    "        'input': 'hello',\n",
    "    },\n",
    "    headers={\n",
    "        'Authorization': f\"Bearer {token}\"\n",
    "    }\n",
    ")\n"
   ]
  },
  {
   "cell_type": "code",
   "execution_count": 4,
   "metadata": {
    "tags": []
   },
   "outputs": [
    {
     "data": {
      "text/plain": [
       "{'output': [{'page_content': 'cats like mice',\n",
       "   'metadata': {'owner_id': 'alice'},\n",
       "   'type': 'Document'},\n",
       "  {'page_content': 'cats like cheese',\n",
       "   'metadata': {'owner_id': 'alice'},\n",
       "   'type': 'Document'}],\n",
       " 'callback_events': [],\n",
       " 'metadata': {'run_id': '1732c9aa-c6d3-4736-b8ca-01265fa8ba06'}}"
      ]
     },
     "execution_count": 4,
     "metadata": {},
     "output_type": "execute_result"
    }
   ],
   "source": [
    "response.json()"
   ]
  },
  {
   "cell_type": "markdown",
   "metadata": {
    "tags": []
   },
   "source": [
    "您也可以通过 RemoteRunnable 接口与之交互（用于其他链中）"
   ]
  },
  {
   "cell_type": "code",
   "execution_count": 5,
   "metadata": {
    "tags": []
   },
   "outputs": [],
   "source": [
    "from langserve import RemoteRunnable\n",
    "\n",
    "remote_runnable = RemoteRunnable(\"http://localhost:8000/my_runnable\", headers={\"Authorization\": f\"Bearer {token}\"})"
   ]
  },
  {
   "cell_type": "code",
   "execution_count": 6,
   "metadata": {
    "tags": []
   },
   "outputs": [
    {
     "data": {
      "text/plain": [
       "[Document(page_content='cats like mice', metadata={'owner_id': 'alice'}),\n",
       " Document(page_content='cats like cheese', metadata={'owner_id': 'alice'})]"
      ]
     },
     "execution_count": 6,
     "metadata": {},
     "output_type": "execute_result"
    }
   ],
   "source": [
    "await remote_runnable.ainvoke(\"cat\")"
   ]
  },
  {
   "cell_type": "markdown",
   "metadata": {},
   "source": [
    "## 作为 John 登录"
   ]
  },
  {
   "cell_type": "code",
   "execution_count": 7,
   "metadata": {
    "tags": []
   },
   "outputs": [],
   "source": [
    "import requests\n",
    "\n",
    "response = requests.post(\"http://localhost:8000/token\", data={\"username\": \"john\", \"password\": \"secret2\"})\n",
    "token = response.json()['access_token']\n",
    "remote_runnable = RemoteRunnable(\"http://localhost:8000/my_runnable\", headers={\"Authorization\": f\"Bearer {token}\"})"
   ]
  },
  {
   "cell_type": "code",
   "execution_count": 8,
   "metadata": {
    "tags": []
   },
   "outputs": [
    {
     "data": {
      "text/plain": [
       "[Document(page_content='i like walks by the ocean', metadata={'owner_id': 'john'}),\n",
       " Document(page_content='dogs like sticks', metadata={'owner_id': 'john'}),\n",
       " Document(page_content='my favorite food is cheese', metadata={'owner_id': 'john'})]"
      ]
     },
     "execution_count": 8,
     "metadata": {},
     "output_type": "execute_result"
    }
   ],
   "source": [
    "await remote_runnable.ainvoke(\"water\")"
   ]
  }
 ],
 "metadata": {
  "kernelspec": {
   "display_name": "Python 3 (ipykernel)",
   "language": "python",
   "name": "python3"
  },
  "language_info": {
   "codemirror_mode": {
    "name": "ipython",
    "version": 3
   },
   "file_extension": ".py",
   "mimetype": "text/x-python",
   "name": "python",
   "nbconvert_exporter": "python",
   "pygments_lexer": "ipython3",
   "version": "3.9.6"
  }
 },
 "nbformat": 4,
 "nbformat_minor": 4
}
