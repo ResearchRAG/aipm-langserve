{
 "cells": [
  {
   "cell_type": "markdown",
   "metadata": {},
   "source": [
    "# 客户端\n",
    "\n",
    "这是一个与具有“认证(auth)”功能的服务器交互的示例客户端。\n",
    "\n",
    "请参阅服务器代码和 FastAPI 中的相关文档，以确保实际安全性。"
   ]
  },
  {
   "cell_type": "markdown",
   "metadata": {},
   "source": [
    "## 作为 Alice 登录"
   ]
  },
  {
   "cell_type": "code",
   "execution_count": 1,
   "metadata": {
    "tags": []
   },
   "outputs": [],
   "source": [
    "import requests\n",
    "\n",
    "response = requests.post(\"http://localhost:8000/token\", data={\"username\": \"alice\", \"password\": \"secret1\"})\n",
    "result = response.json()"
   ]
  },
  {
   "cell_type": "code",
   "execution_count": 2,
   "metadata": {
    "tags": []
   },
   "outputs": [],
   "source": [
    "token = result['access_token']"
   ]
  },
  {
   "cell_type": "code",
   "execution_count": 3,
   "metadata": {
    "tags": []
   },
   "outputs": [],
   "source": [
    "inputs = {\"input\": \"hello\"}\n",
    "response = requests.post(\"http://localhost:8000/invoke\", \n",
    "    json={\n",
    "        'input': '你好',\n",
    "    },\n",
    "    headers={\n",
    "        'Authorization': f\"Bearer {token}\"\n",
    "    }\n",
    ")\n"
   ]
  },
  {
   "cell_type": "code",
   "execution_count": 4,
   "metadata": {
    "tags": []
   },
   "outputs": [
    {
     "data": {
      "text/plain": [
       "{'output': [{'id': None,\n",
       "   'metadata': {'owner_id': 'alice'},\n",
       "   'page_content': '猫喜欢老鼠',\n",
       "   'type': 'Document'},\n",
       "  {'id': None,\n",
       "   'metadata': {'owner_id': 'alice'},\n",
       "   'page_content': '猫喜欢奶酪',\n",
       "   'type': 'Document'}],\n",
       " 'metadata': {'run_id': '869032e5-0635-4a16-9fa8-1c00c9d88e73',\n",
       "  'feedback_tokens': []}}"
      ]
     },
     "execution_count": 4,
     "metadata": {},
     "output_type": "execute_result"
    }
   ],
   "source": [
    "response.json()"
   ]
  },
  {
   "cell_type": "markdown",
   "metadata": {
    "tags": []
   },
   "source": [
    "您也可以通过 RemoteRunnable 接口与之交互（用于其他链中）"
   ]
  },
  {
   "cell_type": "code",
   "execution_count": 5,
   "metadata": {
    "tags": []
   },
   "outputs": [],
   "source": [
    "from langserve import RemoteRunnable\n",
    "\n",
    "remote_runnable = RemoteRunnable(\"http://localhost:8000/\", headers={\"Authorization\": f\"Bearer {token}\"})"
   ]
  },
  {
   "cell_type": "code",
   "execution_count": 6,
   "metadata": {
    "tags": []
   },
   "outputs": [
    {
     "data": {
      "text/plain": [
       "[Document(metadata={'owner_id': 'alice'}, page_content='猫喜欢老鼠'),\n",
       " Document(metadata={'owner_id': 'alice'}, page_content='猫喜欢奶酪')]"
      ]
     },
     "execution_count": 6,
     "metadata": {},
     "output_type": "execute_result"
    }
   ],
   "source": [
    "await remote_runnable.ainvoke(\"cat\")"
   ]
  },
  {
   "cell_type": "markdown",
   "metadata": {},
   "source": [
    "## 作为 John 登录"
   ]
  },
  {
   "cell_type": "code",
   "execution_count": 7,
   "metadata": {
    "tags": []
   },
   "outputs": [],
   "source": [
    "import requests\n",
    "\n",
    "response = requests.post(\"http://localhost:8000/token\", data={\"username\": \"john\", \"password\": \"secret2\"})\n",
    "token = response.json()['access_token']\n",
    "remote_runnable = RemoteRunnable(\"http://localhost:8000/\", headers={\"Authorization\": f\"Bearer {token}\"})"
   ]
  },
  {
   "cell_type": "code",
   "execution_count": 12,
   "metadata": {
    "tags": []
   },
   "outputs": [
    {
     "data": {
      "text/plain": [
       "[Document(metadata={'owner_id': 'john'}, page_content='我喜欢海边散步'),\n",
       " Document(metadata={'owner_id': 'john'}, page_content='狗喜欢棍子'),\n",
       " Document(metadata={'owner_id': 'john'}, page_content='我最喜欢的食物是奶酪')]"
      ]
     },
     "execution_count": 12,
     "metadata": {},
     "output_type": "execute_result"
    }
   ],
   "source": [
    "await remote_runnable.ainvoke(\"water\")"
   ]
  }
 ],
 "metadata": {
  "kernelspec": {
   "display_name": "Python 3 (ipykernel)",
   "language": "python",
   "name": "python3"
  },
  "language_info": {
   "codemirror_mode": {
    "name": "ipython",
    "version": 3
   },
   "file_extension": ".py",
   "mimetype": "text/x-python",
   "name": "python",
   "nbconvert_exporter": "python",
   "pygments_lexer": "ipython3",
   "version": "3.12.3"
  }
 },
 "nbformat": 4,
 "nbformat_minor": 4
}
