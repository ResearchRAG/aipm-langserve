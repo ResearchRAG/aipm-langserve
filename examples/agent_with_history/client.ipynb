{
 "cells": [
  {
   "cell_type": "markdown",
   "metadata": {},
   "source": [
    "# Client\n",
    "\n",
    "Demo of a client interacting with a remote agent that can use history.\n",
    "\n",
    "See relevant documentation about agents:\n",
    "\n",
    "* Creating a custom agent: https://python.langchain.com/docs/modules/agents/how_to/custom_agent\n",
    "* Streaming with agents: https://python.langchain.com/docs/modules/agents/how_to/streaming#custom-streaming-with-events\n",
    "* General streaming documentation: https://python.langchain.com/docs/expression_language/streaming"
   ]
  },
  {
   "cell_type": "markdown",
   "metadata": {},
   "source": [
    "You can interact with this via API directly"
   ]
  },
  {
   "cell_type": "code",
   "execution_count": 2,
   "metadata": {
    "tags": []
   },
   "outputs": [
    {
     "data": {
      "text/plain": [
       "{'output': {'output': 'The length of the word \"shinnyy\" is 7.'},\n",
       " 'metadata': {'run_id': 'de9ca5b6-1930-4cfe-8d23-36fb1965cf1f',\n",
       "  'feedback_tokens': []}}"
      ]
     },
     "execution_count": 2,
     "metadata": {},
     "output_type": "execute_result"
    }
   ],
   "source": [
    "import requests\n",
    "\n",
    "inputs = {\"input\": {\"input\": \"单词 shinnyy 的长度是多少？\", \"chat_history\": []}}\n",
    "response = requests.post(\"http://localhost:8000/invoke\", json=inputs)\n",
    "\n",
    "response.json()"
   ]
  },
  {
   "cell_type": "markdown",
   "metadata": {},
   "source": [
    "You can also interact with this via the RemoteRunnable interface (to use in other chains)"
   ]
  },
  {
   "cell_type": "code",
   "execution_count": 3,
   "metadata": {
    "tags": []
   },
   "outputs": [],
   "source": [
    "from langserve import RemoteRunnable\n",
    "\n",
    "remote_runnable = RemoteRunnable(\"http://localhost:8000/\")"
   ]
  },
  {
   "cell_type": "markdown",
   "metadata": {},
   "source": [
    "Remote runnable has the same interface as local runnables"
   ]
  },
  {
   "cell_type": "code",
   "execution_count": 4,
   "metadata": {
    "tags": []
   },
   "outputs": [],
   "source": [
    "from langchain_core.messages import HumanMessage, AIMessage"
   ]
  },
  {
   "cell_type": "code",
   "execution_count": 5,
   "metadata": {
    "tags": []
   },
   "outputs": [
    {
     "name": "stdout",
     "output_type": "stream",
     "text": [
      "AI: Hi, I'm an AI assistant. I can help you with a variety of tasks, from answering questions to providing information and assistance. How can I assist you today?\n",
      "AI: Yes, I can understand and respond in Chinese. How can I assist you in Chinese today?\n",
      "AI: 你好，我是一个人工智能助手。我的主要任务是帮助用户解决问题、提供信息和帮助。今天我如何可以帮助你？\n",
      "AI: 再见，人类\n"
     ]
    }
   ],
   "source": [
    "chat_history = []\n",
    "\n",
    "while True:\n",
    "    human = input(\"人类（输入Q/q退出）: \")\n",
    "    if human in {\"q\", \"Q\"}:\n",
    "        print('AI: 再见，人类')\n",
    "        break\n",
    "    ai = await remote_runnable.ainvoke({\"input\": human, \"chat_history\": chat_history})\n",
    "    print(f\"AI: {ai['output']}\")\n",
    "    chat_history.extend([HumanMessage(content=human), AIMessage(content=ai['output'])])"
   ]
  },
  {
   "cell_type": "markdown",
   "metadata": {},
   "source": [
    "## Stream\n",
    "\n",
    "Please note that streaming alternates between actions and observations. It does not stream individual tokens!\n",
    "\n",
    "To stream individual tokens, we need to use the astream events endpoint (see below)."
   ]
  },
  {
   "cell_type": "code",
   "execution_count": 6,
   "metadata": {
    "tags": []
   },
   "outputs": [
    {
     "name": "stdout",
     "output_type": "stream",
     "text": [
      "AI: \n",
      "你好！我是一个非常强大的助手，我可以帮助你解决各种问题和需求。\n",
      "------\n",
      "AI: \n",
      "是的，我可以搜索网络来获取信息和回答你的问题。\n",
      "------\n",
      "AI: \n",
      "调用工具 ```search```，输入 ```{'query': '瓲珉'}```\n",
      "------\n",
      "得到结果: ```search is not a valid tool, try one of [word_length].```\n",
      "------\n",
      "It seems like I can't directly search the internet for information. However, I can help you with other tasks. Is there anything else you need assistance with?\n",
      "------\n",
      "AI: \n",
      "你welcome！如果你需要更多帮助，请随时问我。\n",
      "------\n",
      "AI: 再见，人类\n"
     ]
    }
   ],
   "source": [
    "chat_history = []\n",
    "\n",
    "while True:\n",
    "    human = input(\"人类（输入Q/q退出）: \")\n",
    "    if human in {\"q\", \"Q\"}:\n",
    "        print('AI: 再见，人类')\n",
    "        break\n",
    "\n",
    "    ai = None\n",
    "    print(\"AI: \")\n",
    "    async for chunk in remote_runnable.astream({\"input\": human, \"chat_history\": chat_history}):\n",
    "        # 代理动作\n",
    "        if \"actions\" in chunk:\n",
    "            for action in chunk[\"actions\"]:\n",
    "                print(f\"调用工具 ```{action['tool']}```，输入 ```{action['tool_input']}```\")\n",
    "        # 观察结果\n",
    "        elif \"steps\" in chunk:\n",
    "            for step in chunk[\"steps\"]:\n",
    "                print(f\"得到结果: ```{step['observation']}```\")\n",
    "        # 最终结果\n",
    "        elif \"output\" in chunk:\n",
    "            print(chunk['output'])\n",
    "            ai = AIMessage(content=chunk['output'])\n",
    "        else:\n",
    "            raise ValueError\n",
    "        print(\"------\")        \n",
    "    chat_history.extend([HumanMessage(content=human), ai])"
   ]
  },
  {
   "cell_type": "markdown",
   "metadata": {},
   "source": [
    "## Stream Events"
   ]
  },
  {
   "cell_type": "code",
   "execution_count": 7,
   "metadata": {
    "tags": []
   },
   "outputs": [
    {
     "name": "stdout",
     "output_type": "stream",
     "text": [
      "AI: \n",
      "启动代理: agent，输入: {'input': '你好', 'chat_history': []}\n",
      "你|好|！|有什么|可以|帮助|你|？|\n",
      "--\n",
      "完成代理: agent，输出: 你好！有什么可以帮助你？\n",
      "AI: \n",
      "启动代理: agent，输入: {'input': '你能帮我什么？', 'chat_history': []}\n",
      "Hi| there|!| I| can| assist| you| with| a| variety| of| tasks|.| What| do| you| need| help| with| today|?|\n",
      "--\n",
      "完成代理: agent，输出: Hi there! I can assist you with a variety of tasks. What do you need help with today?\n",
      "AI: \n",
      "启动代理: agent，输入: {'input': '我希望你一直说中文，请告诉我你能做什么？', 'chat_history': []}\n",
      "Hi|,| I| can| help| you| with| a| variety| of| tasks|.| I| can| provide| information| on| different| topics|,| help| you| understand| different| languages|,| and| even| assist| you| in| finding| the| length| of| words|.| Just| let| me| know| what| you| need| help| with|!|\n",
      "--\n",
      "完成代理: agent，输出: Hi, I can help you with a variety of tasks. I can provide information on different topics, help you understand different languages, and even assist you in finding the length of words. Just let me know what you need help with!\n",
      "AI: \n",
      "启动代理: agent，输入: {'input': '中文', 'chat_history': []}\n",
      "--\n",
      "启动工具: word_length，输入: {'word': '中斀'}\n",
      "完成工具: word_length\n",
      "工具输出为: 2\n",
      "--\n",
      "The| length| of| the| word| \"|中文|\"| is| |2| characters|.|\n",
      "--\n",
      "完成代理: agent，输出: The length of the word \"中文\" is 2 characters.\n",
      "AI: \n",
      "启动代理: agent，输入: {'input': '你不会说中文吗？', 'chat_history': []}\n",
      "I| can| understand| and| respond| in| Chinese| as| well|.| How| can| I| assist| you| today|?|\n",
      "--\n",
      "完成代理: agent，输出: I can understand and respond in Chinese as well. How can I assist you today?\n",
      "AI: \n",
      "启动代理: agent，输入: {'input': '用中文回答我，你是谁？', 'chat_history': []}\n",
      "我|是一个|非常|强|大的|助|手|，我|可以|帮助|你|解决|各种|问题|和|需求|，但|我|不|擅|长|计算|单|词|的|长度|。如果|你|需要|计算|单|词|的|长度|，我|可以|使用|工具|来|帮助|你|。|\n",
      "--\n",
      "完成代理: agent，输出: 我是一个非常强大的助手，我可以帮助你解决各种问题和需求，但我不擅长计算单词的长度。如果你需要计算单词的长度，我可以使用工具来帮助你。\n",
      "AI: \n",
      "启动代理: agent，输入: {'input': '好的，谢谢。', 'chat_history': []}\n",
      "你|好|！|有什么|可以|帮助|你|？|\n",
      "--\n",
      "完成代理: agent，输出: 你好！有什么可以帮助你？\n",
      "AI: \n",
      "启动代理: agent，输入: {'input': '不用了', 'chat_history': []}\n",
      "--\n",
      "启动工具: word_length，输入: {'word': '不用了'}\n",
      "--\n",
      "启动工具: word_length，输入: {'word': '不用了'}\n",
      "完成工具: word_length\n",
      "工具输出为: 3\n",
      "--\n",
      "完成工具: word_length\n",
      "工具输出为: 3\n",
      "--\n",
      "The| length| of| the| word| \"|不|用|了|\"| is| |3| characters|.|\n",
      "--\n",
      "完成代理: agent，输出: The length of the word \"不用了\" is 3 characters.\n",
      "AI: \n",
      "启动代理: agent，输入: {'input': '再见', 'chat_history': []}\n",
      "--\n",
      "启动工具: word_length，输入: {'word': '再議'}\n",
      "完成工具: word_length\n",
      "工具输出为: 2\n",
      "--\n",
      "The| word| \"|再|见|\"| has| |2| characters|.|\n",
      "--\n",
      "完成代理: agent，输出: The word \"再见\" has 2 characters.\n",
      "AI: 再见，人类\n"
     ]
    }
   ],
   "source": [
    "chat_history = []\n",
    "\n",
    "while True:\n",
    "    human = input(\"人类（输入Q/q退出）: \")\n",
    "    if human in {\"q\", \"Q\"}:\n",
    "        print('AI: 再见，人类')\n",
    "        break\n",
    "    ai = None\n",
    "    print(\"AI: \")\n",
    "    async for event in remote_runnable.astream_events(\n",
    "        {\"input\": human, \"chat_history\": chat_history},\n",
    "        version=\"v1\",\n",
    "    ):\n",
    "        kind = event[\"event\"]\n",
    "        if kind == \"on_chain_start\":\n",
    "            if (\n",
    "                event[\"name\"] == \"agent\"\n",
    "            ):  # 在创建代理时通过 `.with_config({\"run_name\": \"Agent\"})` 指定\n",
    "                print(\n",
    "                    f\"启动代理: {event['name']}，输入: {event['data'].get('input')}\"\n",
    "                )\n",
    "        elif kind == \"on_chain_end\":\n",
    "            if (\n",
    "                event[\"name\"] == \"agent\"\n",
    "            ):  # 在创建代理时通过 `.with_config({\"run_name\": \"Agent\"})` 指定\n",
    "                print()\n",
    "                print(\"--\")\n",
    "                print(\n",
    "                    f\"完成代理: {event['name']}，输出: {event['data'].get('output')['output']}\"\n",
    "                )\n",
    "        if kind == \"on_chat_model_stream\":\n",
    "            content = event[\"data\"][\"chunk\"].content\n",
    "            if content:\n",
    "                # 在 OpenAI 的上下文中，空内容意味着\n",
    "                # 模型正在请求调用一个工具。\n",
    "                # 因此我们只打印非空内容\n",
    "                print(content, end=\"|\")\n",
    "        elif kind == \"on_tool_start\":\n",
    "            print(\"--\")\n",
    "            print(\n",
    "                f\"启动工具: {event['name']}，输入: {event['data'].get('input')}\"\n",
    "            )\n",
    "        elif kind == \"on_tool_end\":\n",
    "            print(f\"完成工具: {event['name']}\")\n",
    "            print(f\"工具输出为: {event['data'].get('output')}\")\n",
    "            print(\"--\")"
   ]
  }
 ],
 "metadata": {
  "kernelspec": {
   "display_name": "Python 3 (ipykernel)",
   "language": "python",
   "name": "python3"
  },
  "language_info": {
   "codemirror_mode": {
    "name": "ipython",
    "version": 3
   },
   "file_extension": ".py",
   "mimetype": "text/x-python",
   "name": "python",
   "nbconvert_exporter": "python",
   "pygments_lexer": "ipython3",
   "version": "3.12.3"
  }
 },
 "nbformat": 4,
 "nbformat_minor": 4
}
