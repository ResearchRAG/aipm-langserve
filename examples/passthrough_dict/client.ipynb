{
 "cells": [
  {
   "cell_type": "markdown",
   "metadata": {},
   "source": [
    "# 传递信息示例\n",
    "\n",
    "一个展示如何随请求传递额外信息，并在响应中将其返回的示例。"
   ]
  },
  {
   "cell_type": "code",
   "execution_count": 15,
   "metadata": {
    "tags": []
   },
   "outputs": [],
   "source": [
    "from langchain.prompts.chat import ChatPromptTemplate"
   ]
  },
  {
   "cell_type": "code",
   "execution_count": 16,
   "metadata": {
    "tags": []
   },
   "outputs": [],
   "source": [
    "from langserve import RemoteRunnable\n",
    "\n",
    "chain = RemoteRunnable(\"http://localhost:8000/v1/\")"
   ]
  },
  {
   "cell_type": "markdown",
   "metadata": {},
   "source": [
    "Let's create a prompt composed of a system message and a human message."
   ]
  },
  {
   "cell_type": "code",
   "execution_count": 17,
   "metadata": {
    "tags": []
   },
   "outputs": [
    {
     "data": {
      "text/plain": [
       "{'output': AIMessage(content='<tool_call>\\n{\"id\": 0, \"name\": \"translate_text\", \"arguments\": {\"source_text\": \"lion\", \"source_language\": \"en\", \"target_language\": \"fr\"}}\\n</tool_call>', additional_kwargs={'refusal': None}, response_metadata={'token_usage': {'completion_tokens': 41, 'prompt_tokens': 20, 'total_tokens': 61, 'queue_time': 0.016212746, 'prompt_time': 0.005798111, 'completion_time': 0.128366994, 'total_time': 0.134165105}, 'model_name': 'llama3-groq-70b-8192-tool-use-preview', 'system_fingerprint': 'fp_ee4b521143', 'finish_reason': 'stop', 'logprobs': None}, id='run-cdff91b9-978e-4595-9ca7-b4ebbe7dedb3-0', usage_metadata={'input_tokens': 20, 'output_tokens': 41, 'total_tokens': 61}),\n",
       " 'info': {'info': {'user_id': 42, 'user_info': {'address': 42}}}}"
      ]
     },
     "execution_count": 17,
     "metadata": {},
     "output_type": "execute_result"
    }
   ],
   "source": [
    "chain.invoke({'thing': 'lion', 'language': '法语', 'info': {\"user_id\": 42, \"user_info\": {\"address\": 42}}})"
   ]
  },
  {
   "cell_type": "code",
   "execution_count": 18,
   "metadata": {
    "tags": []
   },
   "outputs": [
    {
     "name": "stdout",
     "output_type": "stream",
     "text": [
      "{'info': {'info': {'user_id': 42, 'user_info': {'address': 42}}}}\n",
      "{'output': AIMessageChunk(content='', id='run-b5e9f430-1c20-4471-a69d-44d1348da8e8')}\n",
      "{'output': AIMessageChunk(content='<tool_call>', id='run-b5e9f430-1c20-4471-a69d-44d1348da8e8')}\n",
      "{'output': AIMessageChunk(content='\\n', id='run-b5e9f430-1c20-4471-a69d-44d1348da8e8')}\n",
      "{'output': AIMessageChunk(content='{\"', id='run-b5e9f430-1c20-4471-a69d-44d1348da8e8')}\n",
      "{'output': AIMessageChunk(content='id', id='run-b5e9f430-1c20-4471-a69d-44d1348da8e8')}\n",
      "{'output': AIMessageChunk(content='\":', id='run-b5e9f430-1c20-4471-a69d-44d1348da8e8')}\n",
      "{'output': AIMessageChunk(content=' ', id='run-b5e9f430-1c20-4471-a69d-44d1348da8e8')}\n",
      "{'output': AIMessageChunk(content='0', id='run-b5e9f430-1c20-4471-a69d-44d1348da8e8')}\n",
      "{'output': AIMessageChunk(content=',', id='run-b5e9f430-1c20-4471-a69d-44d1348da8e8')}\n",
      "{'output': AIMessageChunk(content=' \"', id='run-b5e9f430-1c20-4471-a69d-44d1348da8e8')}\n",
      "{'output': AIMessageChunk(content='name', id='run-b5e9f430-1c20-4471-a69d-44d1348da8e8')}\n",
      "{'output': AIMessageChunk(content='\":', id='run-b5e9f430-1c20-4471-a69d-44d1348da8e8')}\n",
      "{'output': AIMessageChunk(content=' \"', id='run-b5e9f430-1c20-4471-a69d-44d1348da8e8')}\n",
      "{'output': AIMessageChunk(content='translate', id='run-b5e9f430-1c20-4471-a69d-44d1348da8e8')}\n",
      "{'output': AIMessageChunk(content='Text', id='run-b5e9f430-1c20-4471-a69d-44d1348da8e8')}\n",
      "{'output': AIMessageChunk(content='\",', id='run-b5e9f430-1c20-4471-a69d-44d1348da8e8')}\n",
      "{'output': AIMessageChunk(content=' \"', id='run-b5e9f430-1c20-4471-a69d-44d1348da8e8')}\n",
      "{'output': AIMessageChunk(content='arguments', id='run-b5e9f430-1c20-4471-a69d-44d1348da8e8')}\n",
      "{'output': AIMessageChunk(content='\":', id='run-b5e9f430-1c20-4471-a69d-44d1348da8e8')}\n",
      "{'output': AIMessageChunk(content=' {\"', id='run-b5e9f430-1c20-4471-a69d-44d1348da8e8')}\n",
      "{'output': AIMessageChunk(content='source', id='run-b5e9f430-1c20-4471-a69d-44d1348da8e8')}\n",
      "{'output': AIMessageChunk(content='Text', id='run-b5e9f430-1c20-4471-a69d-44d1348da8e8')}\n",
      "{'output': AIMessageChunk(content='\":', id='run-b5e9f430-1c20-4471-a69d-44d1348da8e8')}\n",
      "{'output': AIMessageChunk(content=' \"', id='run-b5e9f430-1c20-4471-a69d-44d1348da8e8')}\n",
      "{'output': AIMessageChunk(content='lion', id='run-b5e9f430-1c20-4471-a69d-44d1348da8e8')}\n",
      "{'output': AIMessageChunk(content='\",', id='run-b5e9f430-1c20-4471-a69d-44d1348da8e8')}\n",
      "{'output': AIMessageChunk(content=' \"', id='run-b5e9f430-1c20-4471-a69d-44d1348da8e8')}\n",
      "{'output': AIMessageChunk(content='source', id='run-b5e9f430-1c20-4471-a69d-44d1348da8e8')}\n",
      "{'output': AIMessageChunk(content='Language', id='run-b5e9f430-1c20-4471-a69d-44d1348da8e8')}\n",
      "{'output': AIMessageChunk(content='\":', id='run-b5e9f430-1c20-4471-a69d-44d1348da8e8')}\n",
      "{'output': AIMessageChunk(content=' \"', id='run-b5e9f430-1c20-4471-a69d-44d1348da8e8')}\n",
      "{'output': AIMessageChunk(content='en', id='run-b5e9f430-1c20-4471-a69d-44d1348da8e8')}\n",
      "{'output': AIMessageChunk(content='\",', id='run-b5e9f430-1c20-4471-a69d-44d1348da8e8')}\n",
      "{'output': AIMessageChunk(content=' \"', id='run-b5e9f430-1c20-4471-a69d-44d1348da8e8')}\n",
      "{'output': AIMessageChunk(content='target', id='run-b5e9f430-1c20-4471-a69d-44d1348da8e8')}\n",
      "{'output': AIMessageChunk(content='Language', id='run-b5e9f430-1c20-4471-a69d-44d1348da8e8')}\n",
      "{'output': AIMessageChunk(content='\":', id='run-b5e9f430-1c20-4471-a69d-44d1348da8e8')}\n",
      "{'output': AIMessageChunk(content=' \"', id='run-b5e9f430-1c20-4471-a69d-44d1348da8e8')}\n",
      "{'output': AIMessageChunk(content='fr', id='run-b5e9f430-1c20-4471-a69d-44d1348da8e8')}\n",
      "{'output': AIMessageChunk(content='\"}}\\n', id='run-b5e9f430-1c20-4471-a69d-44d1348da8e8')}\n",
      "{'output': AIMessageChunk(content='</tool_call>', id='run-b5e9f430-1c20-4471-a69d-44d1348da8e8')}\n",
      "{'output': AIMessageChunk(content='', response_metadata={'finish_reason': 'stop', 'model_name': 'llama3-groq-70b-8192-tool-use-preview', 'system_fingerprint': 'fp_ee4b521143'}, id='run-b5e9f430-1c20-4471-a69d-44d1348da8e8')}\n"
     ]
    }
   ],
   "source": [
    "for chunk in chain.stream({'thing': 'lion', 'language': '法语', 'info': {\"user_id\": 42, \"user_info\": {\"address\": 42}}}):\n",
    "    print(chunk)"
   ]
  },
  {
   "cell_type": "code",
   "execution_count": 19,
   "metadata": {
    "tags": []
   },
   "outputs": [],
   "source": [
    "from langserve import RemoteRunnable\n",
    "\n",
    "chain = RemoteRunnable(\"http://localhost:8000/v2/\")"
   ]
  },
  {
   "cell_type": "code",
   "execution_count": 20,
   "metadata": {
    "tags": []
   },
   "outputs": [
    {
     "data": {
      "text/plain": [
       "{'output': AIMessage(content='<tool_call>\\n{\"id\": 0, \"name\": \"translate_text\", \"arguments\": {\"source_text\": \"lion\", \"source_language\": \"en\", \"target_language\": \"fr\"}}\\n</tool_call>', additional_kwargs={'refusal': None}, response_metadata={'token_usage': {'completion_tokens': 41, 'prompt_tokens': 20, 'total_tokens': 61, 'queue_time': 0.017779985, 'prompt_time': 0.004373012, 'completion_time': 0.130331049, 'total_time': 0.134704061}, 'model_name': 'llama3-groq-70b-8192-tool-use-preview', 'system_fingerprint': 'fp_ee4b521143', 'finish_reason': 'stop', 'logprobs': None}, id='run-14c1edb6-f01b-43a3-883c-325d7cc5af1b-0', usage_metadata={'input_tokens': 20, 'output_tokens': 41, 'total_tokens': 61}),\n",
       " 'info': {'user_id': 42, 'user_info': {'address': 42}}}"
      ]
     },
     "execution_count": 20,
     "metadata": {},
     "output_type": "execute_result"
    }
   ],
   "source": [
    "chain.invoke({'thing': 'lion', 'language': '法语', 'info': {\"user_id\": 42, \"user_info\": {\"address\": 42}}})"
   ]
  }
 ],
 "metadata": {
  "kernelspec": {
   "display_name": "Python 3 (ipykernel)",
   "language": "python",
   "name": "python3"
  },
  "language_info": {
   "codemirror_mode": {
    "name": "ipython",
    "version": 3
   },
   "file_extension": ".py",
   "mimetype": "text/x-python",
   "name": "python",
   "nbconvert_exporter": "python",
   "pygments_lexer": "ipython3",
   "version": "3.12.3"
  }
 },
 "nbformat": 4,
 "nbformat_minor": 4
}
