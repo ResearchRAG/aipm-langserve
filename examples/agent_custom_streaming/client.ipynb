{
 "cells": [
  {
   "cell_type": "markdown",
   "metadata": {},
   "source": [
    "# 客户端\n",
    "\n",
    "客户端代码与实现以下功能的服务器交互：\n",
    "\n",
    "* 为代理定制流式传输\n",
    "* 用户选定工具的代理\n",
    "\n",
    "此代理没有记忆功能！要查看如何添加记忆功能，请参考 LangServe 中的其他示例。\n",
    "\n",
    "**注意** 我们让代理以字符串形式流式传输输出。这几乎肯定不是您的应用程序所希望的。请随意调整以返回更结构化的输出；然而，请记住，客户端可能只需要使用 `astream_events`！\n",
    "\n",
    "请参阅有关代理的相关文档：\n",
    "\n",
    "* 创建自定义代理：https://python.langchain.com/docs/modules/agents/how_to/custom_agent \n",
    "* 使用代理进行流式传输：https://python.langchain.com/docs/modules/agents/how_to/streaming#custom-streaming-with-events \n",
    "* 通用流式文档：https://python.langchain.com/docs/expression_language/streaming"
   ]
  },
  {
   "cell_type": "markdown",
   "metadata": {},
   "source": [
    "You can interact with this via API directly"
   ]
  },
  {
   "cell_type": "code",
   "execution_count": 13,
   "metadata": {
    "tags": []
   },
   "outputs": [
    {
     "data": {
      "text/plain": [
       "4"
      ]
     },
     "execution_count": 13,
     "metadata": {},
     "output_type": "execute_result"
    }
   ],
   "source": [
    "word = \"好啊啊啊\"\n",
    "len(word)"
   ]
  },
  {
   "cell_type": "code",
   "execution_count": 14,
   "metadata": {
    "tags": []
   },
   "outputs": [
    {
     "name": "stdout",
     "output_type": "stream",
     "text": [
      "\n",
      "启动代理: agent 输入: {'input': '‘好啊啊啊’这个单词的长度是多少？'}\n",
      "<tool_call>\n",
      "{\"id\": 0, \"name\": \"calculateWordLength\", \"arguments\": {\"word\": \"\\u597d\\u3042\\u3042\\u3042\"}}\n",
      "</tool_call>\n",
      "完成代理: agent 输出: <tool_call>\n",
      "{\"id\": 0, \"name\": \"calculateWordLength\", \"arguments\": {\"word\": \"\\u597d\\u3042\\u3042\\u3042\"}}\n",
      "</tool_call>\n",
      "\n"
     ]
    }
   ],
   "source": [
    "import requests\n",
    "\n",
    "inputs = {\"input\": {\"input\": f\"‘{word}’这个单词的长度是多少？\", \"chat_history\": [], \"tools\": []}}\n",
    "response = requests.post(\"http://localhost:8000/invoke\", json=inputs)\n",
    "\n",
    "print(response.json()['output'])"
   ]
  },
  {
   "cell_type": "markdown",
   "metadata": {},
   "source": [
    "Let's provide it with a tool to test that tool selection works"
   ]
  },
  {
   "cell_type": "code",
   "execution_count": 15,
   "metadata": {
    "tags": []
   },
   "outputs": [
    {
     "name": "stdout",
     "output_type": "stream",
     "text": [
      "\n",
      "启动代理: agent 输入: {'input': '‘好啊啊啊’这个单词的长度是多少？'}\n",
      "\n",
      "启动工具: word_length 输入: {'word': '好一业业'}\n",
      "\n",
      "完成工具: word_length 输出: 4\n",
      "The length of the word \"好啊啊啊\" is 4 characters.\n",
      "完成代理: agent 输出: The length of the word \"好啊啊啊\" is 4 characters.\n",
      "\n"
     ]
    }
   ],
   "source": [
    "import requests\n",
    "\n",
    "inputs = {\"input\": {\"input\": f\"‘{word}’这个单词的长度是多少？\",  \"chat_history\": [], \"tools\": [\"word_length\", \"favorite_animal\"]}}\n",
    "response = requests.post(\"http://localhost:8000/invoke\", json=inputs)\n",
    "\n",
    "print(response.json()['output'])"
   ]
  },
  {
   "cell_type": "markdown",
   "metadata": {},
   "source": [
    "您还可以通过 RemoteRunnable 接口与之交互（用于其他链路中）。"
   ]
  },
  {
   "cell_type": "code",
   "execution_count": 16,
   "metadata": {
    "tags": []
   },
   "outputs": [],
   "source": [
    "from langserve import RemoteRunnable\n",
    "\n",
    "remote_runnable = RemoteRunnable(\"http://localhost:8000/\")"
   ]
  },
  {
   "cell_type": "markdown",
   "metadata": {},
   "source": [
    "远程可运行对象与本地可运行对象具有相同的接口。"
   ]
  },
  {
   "cell_type": "markdown",
   "metadata": {},
   "source": [
    "## 流\n",
    "\n",
    "从**自定义流式传输**实现中流式传输输出，该实现流式传输中间步骤的字符串表示形式。详情请参见服务器端实现。"
   ]
  },
  {
   "cell_type": "code",
   "execution_count": 18,
   "metadata": {
    "tags": []
   },
   "outputs": [
    {
     "name": "stdout",
     "output_type": "stream",
     "text": [
      "\n",
      "|"
     ]
    },
    {
     "name": "stdout",
     "output_type": "stream",
     "text": [
      "启动代理: agent 输入: {'input': '吴磊（Loi）最喜欢的动物是什么？'}|\n",
      "|Lo|i| Wu|（|吴|磊|）|最|喜欢|的|动物|是|猫|。|\n",
      "|完成代理: agent 输出: Loi Wu（吴磊）最喜欢的动物是猫。|\n",
      "|"
     ]
    }
   ],
   "source": [
    "async for chunk in remote_runnable.astream({\"input\": \"吴磊（Loi）最喜欢的动物是什么？\", \"tools\": [\"word_length\"]}):\n",
    "    print(chunk, end='|', flush=True)"
   ]
  },
  {
   "cell_type": "code",
   "execution_count": 19,
   "metadata": {
    "tags": []
   },
   "outputs": [
    {
     "name": "stdout",
     "output_type": "stream",
     "text": [
      "\n",
      "|启动代理: agent 输入: {'input': '吴磊（Loi）最喜欢的动物是什么？'}|\n",
      "|"
     ]
    },
    {
     "name": "stdout",
     "output_type": "stream",
     "text": [
      "\n",
      "|启动工具: favorite_animal 输入: {'name': '瓦紎'}|\n",
      "|\n",
      "|完成工具: favorite_animal 输出: dog|\n",
      "|吴|磊|（|Lo|i|）|最|喜欢|的|动物|是|狗|。|\n",
      "|完成代理: agent 输出: 吴磊（Loi）最喜欢的动物是狗。|\n",
      "|"
     ]
    }
   ],
   "source": [
    "async for chunk in remote_runnable.astream({\"input\": \"吴磊（Loi）最喜欢的动物是什么？\", \"tools\": [\"word_length\", \"favorite_animal\"]}):\n",
    "    print(chunk, end='|', flush=True)"
   ]
  }
 ],
 "metadata": {
  "kernelspec": {
   "display_name": "Python 3 (ipykernel)",
   "language": "python",
   "name": "python3"
  },
  "language_info": {
   "codemirror_mode": {
    "name": "ipython",
    "version": 3
   },
   "file_extension": ".py",
   "mimetype": "text/x-python",
   "name": "python",
   "nbconvert_exporter": "python",
   "pygments_lexer": "ipython3",
   "version": "3.12.3"
  }
 },
 "nbformat": 4,
 "nbformat_minor": 4
}
