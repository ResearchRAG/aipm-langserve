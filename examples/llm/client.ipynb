{
 "cells": [
  {
   "cell_type": "markdown",
   "metadata": {},
   "source": [
    "# 大型语言模型（LLMs）\n",
    "\n",
    "在这里，我们将通过可运行接口与服务器交互，该服务器公开了2个大型语言模型（LLMs）。"
   ]
  },
  {
   "cell_type": "code",
   "execution_count": 20,
   "metadata": {
    "tags": []
   },
   "outputs": [],
   "source": [
    "from langchain.prompts.chat import ChatPromptTemplate"
   ]
  },
  {
   "cell_type": "code",
   "execution_count": 21,
   "metadata": {
    "tags": []
   },
   "outputs": [],
   "source": [
    "from langserve import RemoteRunnable\n",
    "\n",
    "# openai_llm = RemoteRunnable(\"http://localhost:8000/openai/\")\n",
    "# anthropic = RemoteRunnable(\"http://localhost:8000/anthropic/\")\n",
    "groq_llm = RemoteRunnable(\"http://localhost:8000/groq/\")\n",
    "ollama = RemoteRunnable(\"http://localhost:8000/ollama/\")"
   ]
  },
  {
   "cell_type": "markdown",
   "metadata": {},
   "source": [
    "让我们创建一个由系统消息和人类消息组成的提示。"
   ]
  },
  {
   "cell_type": "code",
   "execution_count": 26,
   "metadata": {
    "tags": []
   },
   "outputs": [],
   "source": [
    "prompt = ChatPromptTemplate.from_messages(\n",
    "    [\n",
    "        (\n",
    "            \"system\",\n",
    "            \"你是一个受过高等教育的人，喜欢使用复杂的词汇。\"\n",
    "            + \"同时你也言简意赅。回答时不超过三句话。\",\n",
    "        ),\n",
    "        (\"human\", \"告诉我你最喜欢的小说是什么\"),\n",
    "    ]\n",
    ").format_messages()"
   ]
  },
  {
   "cell_type": "markdown",
   "metadata": {},
   "source": [
    "我们可以使用大型语言模型（LLM）。"
   ]
  },
  {
   "cell_type": "code",
   "execution_count": 23,
   "metadata": {
    "tags": []
   },
   "outputs": [
    {
     "data": {
      "text/plain": [
       "AIMessage(content='我很喜欢《1984》这部经典小说，因为它生动地描绘了人性的黑暗和人类社会的潜在危机。在此小剧中，作者奥威尔以犀利的文字和深刻的想法，探讨了自由、真理和权力的复杂关系。', response_metadata={'model': 'llama3.1', 'created_at': '2024-09-05T07:29:15.624989Z', 'message': {'role': 'assistant', 'content': ''}, 'done_reason': 'stop', 'done': True, 'total_duration': 36335667703, 'load_duration': 13988261141, 'prompt_eval_count': 55, 'prompt_eval_duration': 4919669000, 'eval_count': 71, 'eval_duration': 17412063000}, id='run-0a95d2e6-42b9-48d8-b4e0-3cfd6748a0ea-0', usage_metadata={'input_tokens': 55, 'output_tokens': 71, 'total_tokens': 126})"
      ]
     },
     "execution_count": 23,
     "metadata": {},
     "output_type": "execute_result"
    }
   ],
   "source": [
    "ollama.invoke(prompt)"
   ]
  },
  {
   "cell_type": "code",
   "execution_count": 27,
   "metadata": {
    "tags": []
   },
   "outputs": [
    {
     "data": {
      "text/plain": [
       "AIMessage(content='My most cherished novel is \"One Hundred Years of Solitude\" by Gabriel García Márquez. This magical realist masterpiece has a profound impact on me with its intricate narrative structure and richly detailed characters.', additional_kwargs={'refusal': None}, response_metadata={'token_usage': {'completion_tokens': 43, 'prompt_tokens': 55, 'total_tokens': 98, 'queue_time': 0.015488790999999998, 'prompt_time': 0.007310217, 'completion_time': 0.134936881, 'total_time': 0.142247098}, 'model_name': 'llama3-groq-70b-8192-tool-use-preview', 'system_fingerprint': 'fp_ee4b521143', 'finish_reason': 'stop', 'logprobs': None}, id='run-f272be00-9ce4-431d-b5ab-642b3c79494f-0', usage_metadata={'input_tokens': 55, 'output_tokens': 43, 'total_tokens': 98})"
      ]
     },
     "execution_count": 27,
     "metadata": {},
     "output_type": "execute_result"
    }
   ],
   "source": [
    "groq_llm.invoke(prompt)"
   ]
  },
  {
   "cell_type": "markdown",
   "metadata": {},
   "source": [
    "如同常规可执行程序一样，异步调用、批量处理和异步批量处理的变体默认可用。"
   ]
  },
  {
   "cell_type": "code",
   "execution_count": 28,
   "metadata": {
    "tags": []
   },
   "outputs": [
    {
     "data": {
      "text/plain": [
       "AIMessage(content='我最喜爱的小说是道格拉斯·厄尔曼（Douglas Adams）的《银河系漫游指南》。这部小说以其幽默的风格和对宇宙奇观的机智解读而著称，展现了人类在荒诸天体上的无比渺小与存在的意义之探索。', response_metadata={'model': 'llama3.1', 'created_at': '2024-09-05T07:30:45.098807Z', 'message': {'role': 'assistant', 'content': ''}, 'done_reason': 'stop', 'done': True, 'total_duration': 18867077152, 'load_duration': 41251047, 'prompt_eval_count': 55, 'prompt_eval_duration': 203299000, 'eval_count': 82, 'eval_duration': 18618722000}, id='run-25946caa-f0f8-400c-a861-69db511343d0-0', usage_metadata={'input_tokens': 55, 'output_tokens': 82, 'total_tokens': 137})"
      ]
     },
     "execution_count": 28,
     "metadata": {},
     "output_type": "execute_result"
    }
   ],
   "source": [
    "await ollama.ainvoke(prompt)"
   ]
  },
  {
   "cell_type": "code",
   "execution_count": 29,
   "metadata": {
    "tags": []
   },
   "outputs": [
    {
     "data": {
      "text/plain": [
       "[AIMessage(content='我非常推崇《1984》。这个经典作品以其尖锐的批判性与深刻的情感之美，精妙地捕捉了人类在独裁统治下的恐惧和失望。奥威尔的笔下描绘出的世界，无论是悲惨还是优雅，都深深印刻在读者的心中。', response_metadata={'model': 'llama3.1', 'created_at': '2024-09-05T07:31:20.711069Z', 'message': {'role': 'assistant', 'content': ''}, 'done_reason': 'stop', 'done': True, 'total_duration': 22609219177, 'load_duration': 31928703, 'prompt_eval_count': 55, 'prompt_eval_duration': 203213000, 'eval_count': 83, 'eval_duration': 22368682000}, id='run-1eb1812c-41cd-4d12-865c-03cd3b7acc46-0', usage_metadata={'input_tokens': 55, 'output_tokens': 83, 'total_tokens': 138}),\n",
       " AIMessage(content='我非常钟爱的就是《一百年孤独》了！这本小说以其精妙的用笔和睿智的哲学思想深深感染了我的心灵，让我永远铭记于心。', response_metadata={'model': 'llama3.1', 'created_at': '2024-09-05T07:31:14.908871Z', 'message': {'role': 'assistant', 'content': ''}, 'done_reason': 'stop', 'done': True, 'total_duration': 16807298248, 'load_duration': 33355636, 'prompt_eval_count': 55, 'prompt_eval_duration': 4533285000, 'eval_count': 52, 'eval_duration': 12033113000}, id='run-4e5de07b-0cac-40ab-869c-6addd98c0111-0', usage_metadata={'input_tokens': 55, 'output_tokens': 52, 'total_tokens': 107})]"
      ]
     },
     "execution_count": 29,
     "metadata": {},
     "output_type": "execute_result"
    }
   ],
   "source": [
    "ollama.batch([prompt, prompt])"
   ]
  },
  {
   "cell_type": "code",
   "execution_count": 30,
   "metadata": {
    "tags": []
   },
   "outputs": [
    {
     "data": {
      "text/plain": [
       "[AIMessage(content='我的心目中最棒的小说是陀思妥耶夫斯基的《罪与罚》。这部小说以其深刻的人性分析和幽默的讽刺风格，展现了人类灵魂的复杂之美。', response_metadata={'model': 'llama3.1', 'created_at': '2024-09-05T07:31:57.866525Z', 'message': {'role': 'assistant', 'content': ''}, 'done_reason': 'stop', 'done': True, 'total_duration': 13609995757, 'load_duration': 30549274, 'prompt_eval_count': 55, 'prompt_eval_duration': 211966000, 'eval_count': 59, 'eval_duration': 13362182000}, id='run-dab1daaa-4b65-481b-8cb2-9565d454b3cb-0', usage_metadata={'input_tokens': 55, 'output_tokens': 59, 'total_tokens': 114}),\n",
       " AIMessage(content='道恩斯夫人的小说《死之迷宫》深深地吸引着我，因为它对人生的哲学思考和对死亡的探索令我感到非常振奋。', response_metadata={'model': 'llama3.1', 'created_at': '2024-09-05T07:31:54.700231Z', 'message': {'role': 'assistant', 'content': ''}, 'done_reason': 'stop', 'done': True, 'total_duration': 10444364903, 'load_duration': 32371317, 'prompt_eval_count': 55, 'prompt_eval_duration': 276510000, 'eval_count': 42, 'eval_duration': 9919385000}, id='run-46889387-3ec4-418a-8181-875715318eb0-0', usage_metadata={'input_tokens': 55, 'output_tokens': 42, 'total_tokens': 97})]"
      ]
     },
     "execution_count": 30,
     "metadata": {},
     "output_type": "execute_result"
    }
   ],
   "source": [
    "await ollama.abatch([prompt, prompt])"
   ]
  },
  {
   "cell_type": "markdown",
   "metadata": {},
   "source": [
    "默认提供流式传输功能。"
   ]
  },
  {
   "cell_type": "code",
   "execution_count": 32,
   "metadata": {
    "tags": []
   },
   "outputs": [
    {
     "name": "stdout",
     "output_type": "stream",
     "text": [
      "《一千零一夜》的语言美妙、故事丰富，展现了人类智慧和创造力之极致，值得细细品味。"
     ]
    }
   ],
   "source": [
    "for chunk in ollama.stream(prompt):\n",
    "    print(chunk.content, end=\"\", flush=True)"
   ]
  },
  {
   "cell_type": "code",
   "execution_count": 33,
   "metadata": {
    "tags": []
   },
   "outputs": [
    {
     "name": "stdout",
     "output_type": "stream",
     "text": [
      "《尤利西斯》是我的心目中的经典之作。詹姆斯·乔伊斯以其独特的叙事结构和探索人类内心世界的细腻描绘，为这部小说贡献了深刻的哲理意味。"
     ]
    }
   ],
   "source": [
    "async for chunk in ollama.astream(prompt):\n",
    "    print(chunk.content, end=\"\", flush=True)"
   ]
  },
  {
   "cell_type": "code",
   "execution_count": 35,
   "metadata": {},
   "outputs": [],
   "source": [
    "from langchain.schema.runnable import RunnablePassthrough"
   ]
  },
  {
   "cell_type": "code",
   "execution_count": 36,
   "metadata": {
    "tags": []
   },
   "outputs": [],
   "source": [
    "comedian_chain = (\n",
    "    ChatPromptTemplate.from_messages(\n",
    "        [\n",
    "            (\n",
    "                \"system\",\n",
    "                \"你是一个喜剧演员，有时讲有趣的笑话，有时陈述不有趣的事实。现在请讲一个笑话或陈述一个事实，但只能输出一个。\",\n",
    "            ),\n",
    "        ]\n",
    "    )\n",
    "    | groq_llm\n",
    ")\n",
    "\n",
    "joke_classifier_chain = (\n",
    "    ChatPromptTemplate.from_messages(\n",
    "        [\n",
    "            (\n",
    "                \"system\",\n",
    "                \"请判断这个笑话是否有趣。如果有趣，请说‘有趣’；如果不有趣，请说‘不有趣’。然后重复笑话的前五个字作为参考...\",\n",
    "            ),\n",
    "            (\"human\", \"{joke}\"),\n",
    "        ]\n",
    "    )\n",
    "    | ollama\n",
    ")\n",
    "\n",
    "\n",
    "chain = {\"joke\": comedian_chain} | RunnablePassthrough.assign(\n",
    "    classification=joke_classifier_chain\n",
    ")"
   ]
  },
  {
   "cell_type": "code",
   "execution_count": 37,
   "metadata": {
    "tags": []
   },
   "outputs": [
    {
     "data": {
      "text/plain": [
       "{'joke': AIMessage(content='A man walked into a library and asked the librarian, \"Do you have any books on Pavlov\\'s dogs and Schrödinger\\'s cat?\" The librarian replied, \"It rings a bell, but I\\'m not sure if it\\'s here or not.\"', additional_kwargs={'refusal': None}, response_metadata={'token_usage': {'completion_tokens': 54, 'prompt_tokens': 51, 'total_tokens': 105, 'queue_time': 0.016352112, 'prompt_time': 0.006148626, 'completion_time': 0.16932946, 'total_time': 0.175478086}, 'model_name': 'llama3-groq-70b-8192-tool-use-preview', 'system_fingerprint': 'fp_ee4b521143', 'finish_reason': 'stop', 'logprobs': None}, id='run-0c65d6fe-4d91-45e8-b95a-47771bca9fc9-0', usage_metadata={'input_tokens': 51, 'output_tokens': 54, 'total_tokens': 105}),\n",
       " 'classification': AIMessage(content='有趣\\n\\nA man walked into a library and asked the librarian...', response_metadata={'model': 'llama3.1', 'created_at': '2024-09-05T07:37:06.075214Z', 'message': {'role': 'assistant', 'content': ''}, 'done_reason': 'stop', 'done': True, 'total_duration': 26598533322, 'load_duration': 36738456, 'prompt_eval_count': 300, 'prompt_eval_duration': 23839494000, 'eval_count': 15, 'eval_duration': 2707960000}, id='run-aaa706a1-82e5-45d0-a899-91f887cef2ce-0', usage_metadata={'input_tokens': 300, 'output_tokens': 15, 'total_tokens': 315})}"
      ]
     },
     "execution_count": 37,
     "metadata": {},
     "output_type": "execute_result"
    }
   ],
   "source": [
    "chain.invoke({})"
   ]
  }
 ],
 "metadata": {
  "kernelspec": {
   "display_name": "Python 3 (ipykernel)",
   "language": "python",
   "name": "python3"
  },
  "language_info": {
   "codemirror_mode": {
    "name": "ipython",
    "version": 3
   },
   "file_extension": ".py",
   "mimetype": "text/x-python",
   "name": "python",
   "nbconvert_exporter": "python",
   "pygments_lexer": "ipython3",
   "version": "3.12.3"
  }
 },
 "nbformat": 4,
 "nbformat_minor": 4
}
