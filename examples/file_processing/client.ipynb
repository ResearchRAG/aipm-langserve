{
 "cells": [
  {
   "cell_type": "markdown",
   "metadata": {},
   "source": [
    "# 文件处理\n",
    "\n",
    "该客户端将向 langserve 服务器上传一个 PDF 文件，服务器将读取 PDF 并从第一页提取内容。"
   ]
  },
  {
   "cell_type": "markdown",
   "metadata": {},
   "source": [
    "让我们以 base64 编码加载文件："
   ]
  },
  {
   "cell_type": "code",
   "execution_count": 7,
   "metadata": {},
   "outputs": [],
   "source": [
    "# !pip install pdfminer.six"
   ]
  },
  {
   "cell_type": "code",
   "execution_count": 15,
   "metadata": {
    "tags": []
   },
   "outputs": [],
   "source": [
    "import base64\n",
    "\n",
    "with open(\"sample.pdf\", \"rb\") as f:\n",
    "    data = f.read()\n",
    "\n",
    "encoded_data = base64.b64encode(data).decode(\"utf-8\")"
   ]
  },
  {
   "cell_type": "markdown",
   "metadata": {},
   "source": [
    "使用原生请求 requests"
   ]
  },
  {
   "cell_type": "code",
   "execution_count": 16,
   "metadata": {
    "tags": []
   },
   "outputs": [
    {
     "data": {
      "text/plain": [
       "{'output': '⽰例⽂档\\x01\\n\\n如果您正在阅读这段⽂字，您可能正在使⽤\\x01LangServe\\x01🦜🏓！\\x01\\n\\n这是⼀份⽰例\\x01PDF\\x01⽂件！\\x01\\n\\n\\x0c',\n",
       " 'metadata': {'run_id': '45299c43-0f76-4e0a-b241-376f7faf6eaf',\n",
       "  'feedback_tokens': []}}"
      ]
     },
     "execution_count": 16,
     "metadata": {},
     "output_type": "execute_result"
    }
   ],
   "source": [
    "import requests\n",
    "\n",
    "requests.post(\n",
    "    \"http://localhost:8000/pdf/invoke/\", json={\"input\": {\"file\": encoded_data}}\n",
    ").json()"
   ]
  },
  {
   "cell_type": "markdown",
   "metadata": {},
   "source": [
    "使用 SDK"
   ]
  },
  {
   "cell_type": "code",
   "execution_count": 17,
   "metadata": {
    "tags": []
   },
   "outputs": [],
   "source": [
    "from langserve import RemoteRunnable\n",
    "\n",
    "runnable = RemoteRunnable(\"http://localhost:8000/pdf/\")"
   ]
  },
  {
   "cell_type": "code",
   "execution_count": 18,
   "metadata": {
    "tags": []
   },
   "outputs": [
    {
     "data": {
      "text/plain": [
       "'⽰例⽂档\\x01\\n\\n如果您正在阅读这段⽂字，您可能正在使⽤\\x01LangServe\\x01🦜🏓！\\x01\\n\\n这是⼀份⽰例\\x01PDF\\x01⽂件！\\x01\\n\\n\\x0c'"
      ]
     },
     "execution_count": 18,
     "metadata": {},
     "output_type": "execute_result"
    }
   ],
   "source": [
    "runnable.invoke({\"file\": encoded_data})"
   ]
  },
  {
   "cell_type": "code",
   "execution_count": 19,
   "metadata": {
    "tags": []
   },
   "outputs": [
    {
     "data": {
      "text/plain": [
       "['⽰例⽂档\\x01\\n\\n如果您正在阅读这段⽂字，您可能正在使⽤\\x01LangServe\\x01🦜🏓！\\x01\\n\\n这是⼀份⽰例\\x01PDF\\x01⽂件！\\x01\\n\\n\\x0c',\n",
       " '⽰例⽂档\\x01\\n\\n如果您']"
      ]
     },
     "execution_count": 19,
     "metadata": {},
     "output_type": "execute_result"
    }
   ],
   "source": [
    "runnable.batch([{\"file\": encoded_data}, {\"file\": encoded_data, \"num_chars\": 10}])"
   ]
  }
 ],
 "metadata": {
  "kernelspec": {
   "display_name": "Python 3 (ipykernel)",
   "language": "python",
   "name": "python3"
  },
  "language_info": {
   "codemirror_mode": {
    "name": "ipython",
    "version": 3
   },
   "file_extension": ".py",
   "mimetype": "text/x-python",
   "name": "python",
   "nbconvert_exporter": "python",
   "pygments_lexer": "ipython3",
   "version": "3.12.3"
  }
 },
 "nbformat": 4,
 "nbformat_minor": 4
}
